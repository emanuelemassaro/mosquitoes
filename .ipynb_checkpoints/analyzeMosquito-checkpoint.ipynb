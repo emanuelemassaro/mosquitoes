{
 "cells": [
  {
   "cell_type": "code",
   "execution_count": 508,
   "metadata": {},
   "outputs": [
    {
     "name": "stdout",
     "output_type": "stream",
     "text": [
      "Populating the interactive namespace from numpy and matplotlib\n"
     ]
    }
   ],
   "source": [
    "#### %matplotlib inline\n",
    "import warnings\n",
    "warnings.filterwarnings('ignore')\n",
    "%config InlineBackend.figure_format = 'retina'\n",
    "%pylab inline\n",
    "from __future__ import division\n",
    "\n",
    "import numpy as np\n",
    "import pandas as pd\n",
    "import random\n",
    "from random import randint"
   ]
  },
  {
   "cell_type": "code",
   "execution_count": 522,
   "metadata": {},
   "outputs": [],
   "source": [
    "def textPlot(ax, fs, font):\n",
    "    for label in (ax.get_xticklabels() + ax.get_yticklabels()):\n",
    "        label.set_fontname(font)\n",
    "        label.set_fontsize(fs)\n",
    "    return ax"
   ]
  },
  {
   "cell_type": "markdown",
   "metadata": {},
   "source": [
    "## 1. Define Levy Flight Distribution"
   ]
  },
  {
   "cell_type": "code",
   "execution_count": 352,
   "metadata": {},
   "outputs": [],
   "source": [
    "def levy(r0, a, k, r):\n",
    "    return exp(-r/k)*(r + r0)**(-a)"
   ]
  },
  {
   "cell_type": "code",
   "execution_count": 424,
   "metadata": {},
   "outputs": [],
   "source": [
    "r0 = 100  ## Distance between cells\n",
    "a = 2\n",
    "k = 1500"
   ]
  },
  {
   "cell_type": "markdown",
   "metadata": {},
   "source": [
    "## 2. Define grid Size"
   ]
  },
  {
   "cell_type": "code",
   "execution_count": 425,
   "metadata": {},
   "outputs": [],
   "source": [
    "gs = 20 ## Cells per side\n",
    "S = gs*gs ## Grid Size\n",
    "nc = 100 ## Number of habitants per cells\n",
    "N = nc*S"
   ]
  },
  {
   "cell_type": "markdown",
   "metadata": {},
   "source": [
    "### 2.1 Compute the distance between all the cells"
   ]
  },
  {
   "cell_type": "code",
   "execution_count": 427,
   "metadata": {},
   "outputs": [],
   "source": [
    "d = []\n",
    "I = []\n",
    "J = []\n",
    "c = []\n",
    "X = []\n",
    "Y = []\n",
    "count = 0\n",
    "for i in range(0, S):\n",
    "    for j in range(0, S):\n",
    "        if i == j: continue\n",
    "        x1,x2 = i%gs, j%gs\n",
    "        y1,y2 = i//gs, j//gs\n",
    "        dist = sqrt( float(x1-x2)**2 + float(y1-y2)**2)  # pythagoras theorem\n",
    "        #dist = abs(x1-x2) + abs(y1-y2)\n",
    "        dist *= r0\n",
    "        d.append(dist)\n",
    "        I.append(i)\n",
    "        J.append(j)  "
   ]
  },
  {
   "cell_type": "code",
   "execution_count": null,
   "metadata": {},
   "outputs": [],
   "source": [
    "r = 1\n",
    "p = []  ## probability\n",
    "R = []  ## distance\n",
    "for i in range(0,60000):\n",
    "    R.append(r)\n",
    "    p.append(levy(r0, a, k, r)*10000)\n",
    "    r+=.01\n",
    "dr = np.array(R)\n",
    "dp = np.array(p)"
   ]
  },
  {
   "cell_type": "code",
   "execution_count": 523,
   "metadata": {},
   "outputs": [
    {
     "data": {
      "text/plain": [
       "Text(0, 0.5, 'Probability $P(r)$')"
      ]
     },
     "execution_count": 523,
     "metadata": {},
     "output_type": "execute_result"
    },
    {
     "data": {
      "image/png": "[encoded data removed]",
      "text/plain": [
       "<Figure size 360x216 with 1 Axes>"
      ]
     },
     "metadata": {
      "image/png": {
       "height": 220,
       "width": 344
      },
      "needs_background": "light"
     },
     "output_type": "display_data"
    }
   ],
   "source": [
    "fig,ax = plt.subplots(figsize=(5,3))\n",
    "ax = textPlot(ax, 12, 'Arial')\n",
    "plt.plot(R,p)\n",
    "ax.set_xscale('log')\n",
    "ax.set_yscale('log')\n",
    "ax.set_xlabel('Distance '+r'$r$', size = 14)\n",
    "ax.set_ylabel('Probability '+r'$P(r)$', size = 14)"
   ]
  },
  {
   "cell_type": "code",
   "execution_count": 430,
   "metadata": {},
   "outputs": [],
   "source": [
    "def find_nearest(array, value):\n",
    "    array = np.asarray(array)\n",
    "    idx = (np.abs(array - value)).argmin()\n",
    "    return array[idx]"
   ]
  },
  {
   "cell_type": "markdown",
   "metadata": {},
   "source": [
    "### 2.2 Assign home work cells according to the Levy distribution"
   ]
  },
  {
   "cell_type": "code",
   "execution_count": 432,
   "metadata": {},
   "outputs": [],
   "source": [
    "nagents = np.arange(0,N)\n",
    "cell = 0\n",
    "hc = []\n",
    "wc = []\n",
    "upd = nc\n",
    "same = int(0.2*nc)\n",
    "MR = np.zeros((gs, gs))\n",
    "for i in range(0, S):  ### For all the cell\n",
    "    for j in range(0,nc): ## For each agent in the cell\n",
    "        hc.append(cell)\n",
    "        if j < same:  ## First 20 assign same home/work cell\n",
    "            wc.append(cell)\n",
    "        else:\n",
    "            rand = random.uniform(0, 1)\n",
    "            fd = find_nearest(dp, rand)\n",
    "            wx = np.where(dp==fd)\n",
    "            dx = R[wx[0][0]]\n",
    "            tmp = df[df['i']==cell]\n",
    "            ft = find_nearest(tmp['d'], dx)\n",
    "            tmp = tmp[tmp['d']==ft]\n",
    "            k = randint(0,len(tmp)-1)\n",
    "            idx = tmp.index[k]\n",
    "            wc.append(tmp['j'][idx])\n",
    "    cell+=1"
   ]
  },
  {
   "cell_type": "markdown",
   "metadata": {},
   "source": [
    "### 2.3 Save home work locations network"
   ]
  },
  {
   "cell_type": "code",
   "execution_count": 433,
   "metadata": {},
   "outputs": [],
   "source": [
    "net = pd.DataFrame()\n",
    "net['home']=hc\n",
    "net['work']=wc\n",
    "net.to_csv('Code/networkSimulations/realNetwork.dat', sep=' ', header=None, index=None)"
   ]
  },
  {
   "cell_type": "markdown",
   "metadata": {},
   "source": [
    "## 3 Define initial mosquito"
   ]
  },
  {
   "cell_type": "code",
   "execution_count": 489,
   "metadata": {},
   "outputs": [],
   "source": [
    "AV = [] ## adult\n",
    "AM = [] ## aquatic\n",
    "C = []\n",
    "for i in range(0, S):\n",
    "    AV.append(randint(0,10))\n",
    "    AM.append(randint(0,100))\n",
    "    C.append(i)"
   ]
  },
  {
   "cell_type": "markdown",
   "metadata": {},
   "source": [
    "### 3.1 Save initial mosquitos"
   ]
  },
  {
   "cell_type": "code",
   "execution_count": 490,
   "metadata": {},
   "outputs": [],
   "source": [
    "adult = pd.DataFrame()\n",
    "adult['cell']=C\n",
    "adult['m']=AV\n",
    "adult.to_csv('Code/Initial/adult.dat',  sep=' ', header=None, index=None)\n",
    "\n",
    "aquatic = pd.DataFrame()\n",
    "aquatic['cell']=C\n",
    "aquatic['m']=AM\n",
    "aquatic.to_csv('Code/Initial/aquatic.dat',  sep=' ', header=None, index=None)"
   ]
  },
  {
   "cell_type": "markdown",
   "metadata": {},
   "source": [
    "## 4 Analyze results"
   ]
  },
  {
   "cell_type": "code",
   "execution_count": 526,
   "metadata": {},
   "outputs": [],
   "source": [
    "xv = 0.1  ## maximum number of mosquito per humans\n",
    "br = 0.2  ## bite rate\n",
    "pathRes = \"Code/results/\"\n",
    "stat = np.arange(0,1)  ## number of runs of each simulations (for statistics)\n",
    "fileName = []\n",
    "for i in stat:\n",
    "    fileName.append(\"run_%d_%f_%f.csv\"%(i, xv, br)) "
   ]
  },
  {
   "cell_type": "code",
   "execution_count": 501,
   "metadata": {},
   "outputs": [],
   "source": [
    "k = df1.groupby('Time').sum()"
   ]
  },
  {
   "cell_type": "code",
   "execution_count": 502,
   "metadata": {},
   "outputs": [
    {
     "data": {
      "text/plain": [
       "[<matplotlib.lines.Line2D at 0x405895320>]"
      ]
     },
     "execution_count": 502,
     "metadata": {},
     "output_type": "execute_result"
    },
    {
     "data": {
      "image/png": "[encoded data removed]",
      "text/plain": [
       "<Figure size 432x288 with 1 Axes>"
      ]
     },
     "metadata": {
      "image/png": {
       "height": 250,
       "width": 383
      },
      "needs_background": "light"
     },
     "output_type": "display_data"
    }
   ],
   "source": [
    "plt.plot(k['I'])"
   ]
  },
  {
   "cell_type": "code",
   "execution_count": 507,
   "metadata": {},
   "outputs": [
    {
     "data": {
      "image/png": "[encoded data removed]",
      "text/plain": [
       "<Figure size 144x144 with 1 Axes>"
      ]
     },
     "metadata": {
      "image/png": {
       "height": 141,
       "width": 144
      },
      "needs_background": "light"
     },
     "output_type": "display_data"
    },
    {
     "data": {
      "image/png": "[encoded data removed]",
      "text/plain": [
       "<Figure size 144x144 with 1 Axes>"
      ]
     },
     "metadata": {
      "image/png": {
       "height": 141,
       "width": 144
      },
      "needs_background": "light"
     },
     "output_type": "display_data"
    },
    {
     "data": {
      "image/png": "[encoded data removed]",
      "text/plain": [
       "<Figure size 144x144 with 1 Axes>"
      ]
     },
     "metadata": {
      "image/png": {
       "height": 141,
       "width": 144
      },
      "needs_background": "light"
     },
     "output_type": "display_data"
    },
    {
     "data": {
      "image/png": "[encoded data removed]",
      "text/plain": [
       "<Figure size 144x144 with 1 Axes>"
      ]
     },
     "metadata": {
      "image/png": {
       "height": 141,
       "width": 144
      },
      "needs_background": "light"
     },
     "output_type": "display_data"
    },
    {
     "data": {
      "image/png": "[encoded data removed]",
      "text/plain": [
       "<Figure size 144x144 with 1 Axes>"
      ]
     },
     "metadata": {
      "image/png": {
       "height": 141,
       "width": 144
      },
      "needs_background": "light"
     },
     "output_type": "display_data"
    },
    {
     "data": {
      "image/png": "[encoded data removed]",
      "text/plain": [
       "<Figure size 144x144 with 1 Axes>"
      ]
     },
     "metadata": {
      "image/png": {
       "height": 141,
       "width": 144
      },
      "needs_background": "light"
     },
     "output_type": "display_data"
    }
   ],
   "source": [
    "count = 0\n",
    "for i in range(1, 364):\n",
    "    count+=1\n",
    "    MR = np.zeros((gs,gs))\n",
    "    tmp = df1[df1['Time']==i]\n",
    "    k = tmp.groupby('Node').sum()\n",
    "    for j in k.index:\n",
    "        x = j%gs\n",
    "        y = j//gs\n",
    "        MR[x,y]+=k['R'][j]\n",
    "    if count == 20 and i < 140:\n",
    "        fig,ax = plt.subplots(figsize=(2,2))\n",
    "        plt.imshow(MR)\n",
    "        plt.clim(0, 20)\n",
    "        plt.show()\n",
    "        count = 0\n",
    "    #input(\"Press Enter to continue...\")\n",
    "        "
   ]
  },
  {
   "cell_type": "code",
   "execution_count": 467,
   "metadata": {},
   "outputs": [
    {
     "data": {
      "text/plain": [
       "35232"
      ]
     },
     "execution_count": 467,
     "metadata": {},
     "output_type": "execute_result"
    }
   ],
   "source": [
    "k = df1.groupby('Time').sum()\n",
    "np.max(k['R'])"
   ]
  },
  {
   "cell_type": "code",
   "execution_count": 384,
   "metadata": {},
   "outputs": [
    {
     "data": {
      "text/plain": [
       "0.613"
      ]
     },
     "execution_count": 384,
     "metadata": {},
     "output_type": "execute_result"
    }
   ],
   "source": [
    "np.max(k['R'])/250000"
   ]
  },
  {
   "cell_type": "code",
   "execution_count": null,
   "metadata": {},
   "outputs": [],
   "source": []
  }
 ],
 "metadata": {
  "kernelspec": {
   "display_name": "Python 3",
   "language": "python",
   "name": "python3"
  },
  "language_info": {
   "codemirror_mode": {
    "name": "ipython",
    "version": 3
   },
   "file_extension": ".py",
   "mimetype": "text/x-python",
   "name": "python",
   "nbconvert_exporter": "python",
   "pygments_lexer": "ipython3",
   "version": "3.6.6"
  }
 },
 "nbformat": 4,
 "nbformat_minor": 2
}
