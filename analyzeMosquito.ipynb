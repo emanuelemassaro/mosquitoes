{
 "cells": [
  {
   "cell_type": "code",
   "execution_count": 1,
   "metadata": {},
   "outputs": [
    {
     "name": "stdout",
     "output_type": "stream",
     "text": [
      "Populating the interactive namespace from numpy and matplotlib\n"
     ]
    }
   ],
   "source": [
    "#### %matplotlib inline\n",
    "import warnings\n",
    "warnings.filterwarnings('ignore')\n",
    "%config InlineBackend.figure_format = 'retina'\n",
    "%pylab inline\n",
    "from __future__ import division\n",
    "\n",
    "import numpy as np\n",
    "import pandas as pd\n",
    "import random\n",
    "from random import randint\n",
    "\n",
    "from matplotlib.ticker import FormatStrFormatter\n",
    "from mpl_toolkits.axes_grid1 import make_axes_locatable"
   ]
  },
  {
   "cell_type": "code",
   "execution_count": 2,
   "metadata": {},
   "outputs": [],
   "source": [
    "def textPlot(ax, fs, font):\n",
    "    for label in (ax.get_xticklabels() + ax.get_yticklabels()):\n",
    "        label.set_fontname(font)\n",
    "        label.set_fontsize(fs)\n",
    "    return ax"
   ]
  },
  {
   "cell_type": "code",
   "execution_count": 23,
   "metadata": {},
   "outputs": [],
   "source": [
    "class mosquitoAnalysis:\n",
    "    def __init__(self):\n",
    "        self.r0 = 100  ## Distance between cells\n",
    "        self.a = 2\n",
    "        self.k = 1500\n",
    "        self.gs = 20 ## Cells per side\n",
    "        self.S = self.gs*self.gs ## Grid Size\n",
    "        self.nc = 100 ## Number of habitants per cells\n",
    "        self.N = self.nc*self.S\n",
    "        self.hc = []  ## home work\n",
    "        self.wc = []  ## home work\n",
    "        \n",
    "    def levy(self, r):\n",
    "        return exp(-r/self.k)*(r + self.r0)**(-self.a)\n",
    "    \n",
    "    def defineProbability(self,r):\n",
    "        p = []  ## probability\n",
    "        R = []  ## distance\n",
    "        for i in range(0,60000):\n",
    "            R.append(r)\n",
    "            p.append(self.levy(r)*10000)\n",
    "            r+=.01\n",
    "        dr = np.array(R)\n",
    "        dp = np.array(p)\n",
    "        return (dr,dp)\n",
    "    \n",
    "    def find_nearest(self, array, value):\n",
    "        array = np.asarray(array)\n",
    "        idx = (np.abs(array - value)).argmin()\n",
    "        return array[idx]\n",
    "    \n",
    "    def computeDistance(self):\n",
    "        d = []\n",
    "        I = []\n",
    "        J = []\n",
    "        count = 0\n",
    "        for i in range(0, self.S):\n",
    "            for j in range(0, self.S):\n",
    "                if i == j: continue\n",
    "                x1,x2 = i%gs, j%gs\n",
    "                y1,y2 = i//gs, j//gs\n",
    "                dist = sqrt( float(x1-x2)**2 + float(y1-y2)**2)  # pythagoras theorem\n",
    "                #dist = abs(x1-x2) + abs(y1-y2)\n",
    "                dist *= r0\n",
    "                d.append(dist)\n",
    "                I.append(i)\n",
    "                J.append(j) \n",
    "        self.dc=pd.DataFrame()\n",
    "        self.dc['i']=I\n",
    "        self.dc['j']=J\n",
    "        self.dc['d']=d\n",
    "    \n",
    "    \n",
    "    def assignCells(self, dp, dr):\n",
    "        nagents = np.arange(0,self.N)\n",
    "        cell = 0\n",
    "        upd = self.nc\n",
    "        same = int(0.2*upd)\n",
    "        MR = np.zeros((self.gs, self.gs))\n",
    "        for i in range(0, self.S):  ### For all the cell\n",
    "            for j in range(0,self.nc): ## For each agent in the cell\n",
    "                self.hc.append(cell)\n",
    "                if j < same:  ## First 20 assign same home/work cell\n",
    "                    self.wc.append(cell)\n",
    "                else:\n",
    "                    rand = random.uniform(0, 1)\n",
    "                    fd = self.find_nearest(dp, rand)\n",
    "                    wx = np.where(dp==fd)\n",
    "                    dx = dr[wx[0][0]]\n",
    "                    tmp = self.dc[self.dc['i']==cell]\n",
    "                    ft = find_nearest(tmp['d'], dx)\n",
    "                    tmp = tmp[tmp['d']==ft]\n",
    "                    k = randint(0,len(tmp)-1)\n",
    "                    idx = tmp.index[k]\n",
    "                    self.wc.append(tmp['j'][idx])\n",
    "        cell+=1\n",
    "        \n",
    "\n"
   ]
  },
  {
   "cell_type": "code",
   "execution_count": 25,
   "metadata": {},
   "outputs": [],
   "source": [
    "mos = mosquitoAnalysis()\n",
    "mos.computeDistance()  ## compute distance between all the cell\n",
    "r = 1\n",
    "[dr,dp] = mos.defineProbability(r) ## define probablity distribution range\n",
    "mos.assignCells(dp,dr) ## assign the cells given the probability defined below"
   ]
  },
  {
   "cell_type": "code",
   "execution_count": 26,
   "metadata": {},
   "outputs": [
    {
     "data": {
      "text/plain": [
       "Text(0, 0.5, 'Probability $P(r)$')"
      ]
     },
     "execution_count": 26,
     "metadata": {},
     "output_type": "execute_result"
    },
    {
     "data": {
      "image/png": "[encoded data removed]",
      "text/plain": [
       "<Figure size 360x216 with 1 Axes>"
      ]
     },
     "metadata": {
      "image/png": {
       "height": 220,
       "width": 344
      },
      "needs_background": "light"
     },
     "output_type": "display_data"
    }
   ],
   "source": [
    "fig,ax = plt.subplots(figsize=(5,3))\n",
    "ax = textPlot(ax, 12, 'Arial')\n",
    "plt.plot(dr,dp)\n",
    "ax.set_xscale('log')\n",
    "ax.set_yscale('log')\n",
    "ax.set_xlabel('Distance '+r'$r$', size = 14)\n",
    "ax.set_ylabel('Probability '+r'$P(r)$', size = 14)"
   ]
  },
  {
   "cell_type": "code",
   "execution_count": null,
   "metadata": {},
   "outputs": [],
   "source": []
  },
  {
   "cell_type": "markdown",
   "metadata": {},
   "source": [
    "## 1. Define Levy Flight Distribution"
   ]
  },
  {
   "cell_type": "code",
   "execution_count": 8,
   "metadata": {},
   "outputs": [],
   "source": [
    "def levy(r,k,r0,a):\n",
    "    return exp(-r/k)*(r + r0)**(-a)"
   ]
  },
  {
   "cell_type": "code",
   "execution_count": 4,
   "metadata": {},
   "outputs": [],
   "source": [
    "r0 = 100  ## Distance between cells\n",
    "a = 2\n",
    "k = 1500"
   ]
  },
  {
   "cell_type": "markdown",
   "metadata": {},
   "source": [
    "## 2. Define grid Size"
   ]
  },
  {
   "cell_type": "code",
   "execution_count": 5,
   "metadata": {},
   "outputs": [],
   "source": [
    "gs = 20 ## Cells per side\n",
    "S = gs*gs ## Grid Size\n",
    "nc = 100 ## Number of habitants per cells\n",
    "N = nc*S"
   ]
  },
  {
   "cell_type": "markdown",
   "metadata": {},
   "source": [
    "### 2.1 Compute the distance between all the cells"
   ]
  },
  {
   "cell_type": "code",
   "execution_count": 14,
   "metadata": {},
   "outputs": [],
   "source": [
    "d = []\n",
    "I = []\n",
    "J = []\n",
    "c = []\n",
    "X = []\n",
    "Y = []\n",
    "count = 0\n",
    "for i in range(0, S):\n",
    "    for j in range(0, S):\n",
    "        if i == j: continue\n",
    "        x1,x2 = i%gs, j%gs\n",
    "        y1,y2 = i//gs, j//gs\n",
    "        dist = sqrt( float(x1-x2)**2 + float(y1-y2)**2)  # pythagoras theorem\n",
    "        #dist = abs(x1-x2) + abs(y1-y2)\n",
    "        dist *= r0\n",
    "        d.append(dist)\n",
    "        I.append(i)\n",
    "        J.append(j) "
   ]
  },
  {
   "cell_type": "code",
   "execution_count": 17,
   "metadata": {},
   "outputs": [],
   "source": [
    "df=pd.DataFrame()\n",
    "df['i']=I\n",
    "df['j']=J\n",
    "df['d']=d"
   ]
  },
  {
   "cell_type": "code",
   "execution_count": 9,
   "metadata": {},
   "outputs": [],
   "source": [
    "r = 1\n",
    "p = []  ## probability\n",
    "R = []  ## distance\n",
    "for i in range(0,60000):\n",
    "    R.append(r)\n",
    "    p.append(levy(r,k,r0,a)*10000)\n",
    "    r+=.01\n",
    "dr = np.array(R)\n",
    "dp = np.array(p)"
   ]
  },
  {
   "cell_type": "code",
   "execution_count": 10,
   "metadata": {},
   "outputs": [
    {
     "data": {
      "text/plain": [
       "Text(0, 0.5, 'Probability $P(r)$')"
      ]
     },
     "execution_count": 10,
     "metadata": {},
     "output_type": "execute_result"
    },
    {
     "data": {
      "image/png": "[encoded data removed]",
      "text/plain": [
       "<Figure size 360x216 with 1 Axes>"
      ]
     },
     "metadata": {
      "image/png": {
       "height": 220,
       "width": 344
      },
      "needs_background": "light"
     },
     "output_type": "display_data"
    }
   ],
   "source": [
    "fig,ax = plt.subplots(figsize=(5,3))\n",
    "ax = textPlot(ax, 12, 'Arial')\n",
    "plt.plot(R,p)\n",
    "ax.set_xscale('log')\n",
    "ax.set_yscale('log')\n",
    "ax.set_xlabel('Distance '+r'$r$', size = 14)\n",
    "ax.set_ylabel('Probability '+r'$P(r)$', size = 14)"
   ]
  },
  {
   "cell_type": "code",
   "execution_count": 11,
   "metadata": {},
   "outputs": [],
   "source": [
    "def find_nearest(array, value):\n",
    "    array = np.asarray(array)\n",
    "    idx = (np.abs(array - value)).argmin()\n",
    "    return array[idx]"
   ]
  },
  {
   "cell_type": "markdown",
   "metadata": {},
   "source": [
    "### 2.2 Assign home work cells according to the Levy distribution"
   ]
  },
  {
   "cell_type": "code",
   "execution_count": null,
   "metadata": {},
   "outputs": [],
   "source": [
    "df = pd.DataFrame()\n",
    "df['']"
   ]
  },
  {
   "cell_type": "code",
   "execution_count": 18,
   "metadata": {},
   "outputs": [],
   "source": [
    "nagents = np.arange(0,N)\n",
    "cell = 0\n",
    "hc = []\n",
    "wc = []\n",
    "upd = nc\n",
    "same = int(0.2*nc)\n",
    "MR = np.zeros((gs, gs))\n",
    "for i in range(0, S):  ### For all the cell\n",
    "    for j in range(0,nc): ## For each agent in the cell\n",
    "        hc.append(cell)\n",
    "        if j < same:  ## First 20 assign same home/work cell\n",
    "            wc.append(cell)\n",
    "        else:\n",
    "            rand = random.uniform(0, 1)\n",
    "            fd = find_nearest(dp, rand)\n",
    "            wx = np.where(dp==fd)\n",
    "            dx = R[wx[0][0]]\n",
    "            tmp = df[df['i']==cell]\n",
    "            ft = find_nearest(tmp['d'], dx)\n",
    "            tmp = tmp[tmp['d']==ft]\n",
    "            k = randint(0,len(tmp)-1)\n",
    "            idx = tmp.index[k]\n",
    "            wc.append(tmp['j'][idx])\n",
    "    cell+=1"
   ]
  },
  {
   "cell_type": "markdown",
   "metadata": {},
   "source": [
    "### 2.3 Save home work locations network"
   ]
  },
  {
   "cell_type": "code",
   "execution_count": null,
   "metadata": {},
   "outputs": [],
   "source": [
    "net = pd.DataFrame()\n",
    "net['home']=hc\n",
    "net['work']=wc\n",
    "net.to_csv('Code/networkSimulations/realNetwork.dat', sep=' ', header=None, index=None)"
   ]
  },
  {
   "cell_type": "markdown",
   "metadata": {},
   "source": [
    "## 3 Define initial mosquito"
   ]
  },
  {
   "cell_type": "code",
   "execution_count": null,
   "metadata": {},
   "outputs": [],
   "source": [
    "AV = [] ## adult\n",
    "AM = [] ## aquatic\n",
    "C = []\n",
    "for i in range(0, S):\n",
    "    AV.append(randint(0,10))\n",
    "    AM.append(randint(0,100))\n",
    "    C.append(i)"
   ]
  },
  {
   "cell_type": "markdown",
   "metadata": {},
   "source": [
    "### 3.1 Save initial mosquitos"
   ]
  },
  {
   "cell_type": "code",
   "execution_count": null,
   "metadata": {},
   "outputs": [],
   "source": [
    "adult = pd.DataFrame()\n",
    "adult['cell']=C\n",
    "adult['m']=AV\n",
    "adult.to_csv('Code/Initial/adult.dat',  sep=' ', header=None, index=None)\n",
    "\n",
    "aquatic = pd.DataFrame()\n",
    "aquatic['cell']=C\n",
    "aquatic['m']=AM\n",
    "aquatic.to_csv('Code/Initial/aquatic.dat',  sep=' ', header=None, index=None)"
   ]
  },
  {
   "cell_type": "markdown",
   "metadata": {},
   "source": [
    "## 4 Analyze results"
   ]
  },
  {
   "cell_type": "code",
   "execution_count": null,
   "metadata": {},
   "outputs": [],
   "source": [
    "xv = 0.1  ## maximum number of mosquito per humans\n",
    "br = 0.2  ## bite rate\n",
    "pathRes = \"Code/results/\"\n",
    "stat = np.arange(0,10)  ## number of runs of each simulations (for statistics)\n",
    "fileName = []\n",
    "for i in stat:\n",
    "    fileName.append(\"run_%d_%f_%f.csv\"%(i, xv, br)) "
   ]
  },
  {
   "cell_type": "markdown",
   "metadata": {},
   "source": [
    "### 4.1 Read results and average"
   ]
  },
  {
   "cell_type": "markdown",
   "metadata": {},
   "source": [
    "#### 4.1.1 Temporal Analysis"
   ]
  },
  {
   "cell_type": "code",
   "execution_count": null,
   "metadata": {},
   "outputs": [],
   "source": [
    "infH = []  ## infected humans\n",
    "recH = []  ## recovered humans\n",
    "expH = []  ## exposed humans\n",
    "susH = []  ## exposed humans\n",
    "for i in fileName:\n",
    "    tmp = pd.read_csv(pathRes+i, sep=' ') ## read the file\n",
    "    k = tmp.groupby('Time').sum()  ## Sum of the compartments for each cell at each time\n",
    "    infH.append(k['I'])\n",
    "    susH.append(k['S'])\n",
    "    expH.append(k['E'])\n",
    "    recH.append(k['R'])\n",
    "ih = np.percentile(infH, [2.5,50,97.5], axis=0)  ## compute the percentile\n",
    "sh = np.percentile(susH, [2.5,50,97.5], axis=0)  ## compute the percentile\n",
    "eh = np.percentile(expH, [2.5,50,97.5], axis=0)  ## compute the percentile\n",
    "rh = np.percentile(recH, [2.5,50,97.5], axis=0)  ## compute the percentile"
   ]
  },
  {
   "cell_type": "code",
   "execution_count": null,
   "metadata": {},
   "outputs": [],
   "source": [
    "fig,ax = plt.subplots(figsize=(7,3))\n",
    "ax = textPlot(ax, 12, 'Arial')\n",
    "plt.plot(k.index,ih[1], color='black', lw=1)\n",
    "ax.fill_between(k.index, ih[0], ih[2], alpha=0.5)\n",
    "ax.set_xlabel('Days '+r'$t$', size = 14)\n",
    "ax.set_ylabel('Infected '+r'$I(t)$', size = 14)"
   ]
  },
  {
   "cell_type": "code",
   "execution_count": null,
   "metadata": {},
   "outputs": [],
   "source": [
    "fig,ax = plt.subplots(figsize=(7,3))\n",
    "ax = textPlot(ax, 12, 'Arial')\n",
    "plt.plot(k.index,sh[1],  lw=1, label='Susceptible')\n",
    "plt.plot(k.index,eh[1],  lw=1, label='Exposed')\n",
    "plt.plot(k.index,ih[1],  lw=1, label='Infected')\n",
    "plt.plot(k.index,rh[1],  lw=1, label='Recovered')\n",
    "ax.set_xlabel('Days '+r'$t$', size = 14);\n",
    "ax.set_ylabel('Agents', size = 14);\n",
    "ax.legend();"
   ]
  },
  {
   "cell_type": "markdown",
   "metadata": {},
   "source": [
    "#### 4.1.2 Spatial Diffusion: Recovered Individuals\n"
   ]
  },
  {
   "cell_type": "code",
   "execution_count": null,
   "metadata": {},
   "outputs": [],
   "source": [
    "infH = []  ## infected humans\n",
    "M = []\n",
    "for i in range(0, 363):\n",
    "    M.append(np.zeros((gs,gs)))\n",
    "\n",
    "for i in fileName:\n",
    "    df = pd.read_csv(pathRes+i, sep=' ') ## read the file\n",
    "    count = 0\n",
    "    for t in range(1, 364):\n",
    "        tmp = df[df['Time']==t]\n",
    "        k = tmp.groupby('Node').sum()\n",
    "        for j in k.index:\n",
    "            x = j%gs\n",
    "            y = j//gs\n",
    "            M[t-1][x,y]+=k['R'][j]"
   ]
  },
  {
   "cell_type": "code",
   "execution_count": null,
   "metadata": {},
   "outputs": [],
   "source": [
    "days = [20,40,60,80]\n",
    "fig, ax = plt.subplots(2, 2, figsize=(10,10))\n",
    "d = 0\n",
    "for i in range(0,2):\n",
    "    for j in range(0,2):\n",
    "        t = days[d]\n",
    "        ax1 = ax[i][j]\n",
    "        ax1 = textPlot(ax1, 12, 'Arial')\n",
    "        im = ax1.imshow(M[t], cmap='CMRmap_r',vmin=0, vmax=600)\n",
    "        ax1.set_title('Day=%d'%t)\n",
    "        ax1.set_xticks([-0.5,4.5,9.5,14.5,19.5])\n",
    "        ax1.set_xticklabels([0,5,10,15,20])\n",
    "        ax1.set_yticks([-0.5,4.5,9.5,14.5,19.5])\n",
    "        ax1.set_yticklabels([0,5,10,15,20])\n",
    "        plt.colorbar(im,ax=ax1)\n",
    "        d+=1"
   ]
  },
  {
   "cell_type": "code",
   "execution_count": null,
   "metadata": {},
   "outputs": [],
   "source": [
    "t"
   ]
  }
 ],
 "metadata": {
  "kernelspec": {
   "display_name": "Python 3",
   "language": "python",
   "name": "python3"
  },
  "language_info": {
   "codemirror_mode": {
    "name": "ipython",
    "version": 3
   },
   "file_extension": ".py",
   "mimetype": "text/x-python",
   "name": "python",
   "nbconvert_exporter": "python",
   "pygments_lexer": "ipython3",
   "version": "3.6.6"
  }
 },
 "nbformat": 4,
 "nbformat_minor": 2
}
